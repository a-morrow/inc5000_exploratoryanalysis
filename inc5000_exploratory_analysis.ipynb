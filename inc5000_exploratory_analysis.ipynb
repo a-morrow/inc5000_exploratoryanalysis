{
 "cells": [
  {
   "cell_type": "code",
   "execution_count": 1,
   "metadata": {
    "collapsed": true,
    "pycharm": {
     "name": "#%%\n"
    }
   },
   "outputs": [],
   "source": [
    "import pandas as pd\n",
    "import numpy as np\n",
    "import matplotlib.pyplot as plt\n",
    "import seaborn as sns"
   ]
  },
  {
   "cell_type": "code",
   "execution_count": 7,
   "outputs": [],
   "source": [
    "data_file = 'C:\\\\Users\\\\amorrow\\\\Documents\\\\inc5000_Extracts\\\\inc5000_appended_extract.csv'\n",
    "df = pd.read_csv(data_file, low_memory=False)"
   ],
   "metadata": {
    "collapsed": false,
    "pycharm": {
     "name": "#%%\n"
    }
   }
  },
  {
   "cell_type": "code",
   "execution_count": 8,
   "outputs": [
    {
     "data": {
      "text/plain": "   Year  inc5000companyId  rank             company  workers  \\\n0  2010             21690   1.0        Ambit Energy    171.0   \n1  2010             24742   2.0            ModCloth    100.0   \n2  2010             17244   3.0   Luke & Associates    588.0   \n3  2010             17245   4.0  Lexicon Consulting     50.0   \n4  2010             17246   5.0      WDFA Marketing     46.0   \n\n   previous_workers ceo_gender                website state_s            city  \\\n0               NaN        NaN        ambitenergy.com      TX          Dallas   \n1               NaN        NaN       www.modcloth.com      CA   San Francisco   \n2               NaN        NaN      www.LukeAssoc.com      FL  Merritt Island   \n3               NaN        NaN         lexiconinc.com      CA       San Diego   \n4               NaN        NaN  www.WDFAMarketing.com      CA   San Francisco   \n\n    growth                 industry name  zipcode  founded  \\\n0  20369.0                   Energy  NaN  75202.0   2006.0   \n1  17191.0                   Retail  NaN  94107.0   2002.0   \n2  16637.0      Government Services  NaN  32955.0   2004.0   \n3  14018.0      Government Services  NaN  92018.0   2005.0   \n4  13969.0  Advertising & Marketing  NaN  94133.0   2006.0   \n\n                                  ifc_business_model raw_revenue  yrs_on_list  \n0  Provides electricity and natural gas services ...   324968084            1  \n1                                                NaN    15591108            1  \n2  Serves primarily the U.S. military, providing ...    37457232            1  \n3  Lexicon trains Department of Defense and milit...    14392043            1  \n4  WDFA Marketing specializes in guerilla, grassr...    17861317            1  ",
      "text/html": "<div>\n<style scoped>\n    .dataframe tbody tr th:only-of-type {\n        vertical-align: middle;\n    }\n\n    .dataframe tbody tr th {\n        vertical-align: top;\n    }\n\n    .dataframe thead th {\n        text-align: right;\n    }\n</style>\n<table border=\"1\" class=\"dataframe\">\n  <thead>\n    <tr style=\"text-align: right;\">\n      <th></th>\n      <th>Year</th>\n      <th>inc5000companyId</th>\n      <th>rank</th>\n      <th>company</th>\n      <th>workers</th>\n      <th>previous_workers</th>\n      <th>ceo_gender</th>\n      <th>website</th>\n      <th>state_s</th>\n      <th>city</th>\n      <th>growth</th>\n      <th>industry</th>\n      <th>name</th>\n      <th>zipcode</th>\n      <th>founded</th>\n      <th>ifc_business_model</th>\n      <th>raw_revenue</th>\n      <th>yrs_on_list</th>\n    </tr>\n  </thead>\n  <tbody>\n    <tr>\n      <th>0</th>\n      <td>2010</td>\n      <td>21690</td>\n      <td>1.0</td>\n      <td>Ambit Energy</td>\n      <td>171.0</td>\n      <td>NaN</td>\n      <td>NaN</td>\n      <td>ambitenergy.com</td>\n      <td>TX</td>\n      <td>Dallas</td>\n      <td>20369.0</td>\n      <td>Energy</td>\n      <td>NaN</td>\n      <td>75202.0</td>\n      <td>2006.0</td>\n      <td>Provides electricity and natural gas services ...</td>\n      <td>324968084</td>\n      <td>1</td>\n    </tr>\n    <tr>\n      <th>1</th>\n      <td>2010</td>\n      <td>24742</td>\n      <td>2.0</td>\n      <td>ModCloth</td>\n      <td>100.0</td>\n      <td>NaN</td>\n      <td>NaN</td>\n      <td>www.modcloth.com</td>\n      <td>CA</td>\n      <td>San Francisco</td>\n      <td>17191.0</td>\n      <td>Retail</td>\n      <td>NaN</td>\n      <td>94107.0</td>\n      <td>2002.0</td>\n      <td>NaN</td>\n      <td>15591108</td>\n      <td>1</td>\n    </tr>\n    <tr>\n      <th>2</th>\n      <td>2010</td>\n      <td>17244</td>\n      <td>3.0</td>\n      <td>Luke &amp; Associates</td>\n      <td>588.0</td>\n      <td>NaN</td>\n      <td>NaN</td>\n      <td>www.LukeAssoc.com</td>\n      <td>FL</td>\n      <td>Merritt Island</td>\n      <td>16637.0</td>\n      <td>Government Services</td>\n      <td>NaN</td>\n      <td>32955.0</td>\n      <td>2004.0</td>\n      <td>Serves primarily the U.S. military, providing ...</td>\n      <td>37457232</td>\n      <td>1</td>\n    </tr>\n    <tr>\n      <th>3</th>\n      <td>2010</td>\n      <td>17245</td>\n      <td>4.0</td>\n      <td>Lexicon Consulting</td>\n      <td>50.0</td>\n      <td>NaN</td>\n      <td>NaN</td>\n      <td>lexiconinc.com</td>\n      <td>CA</td>\n      <td>San Diego</td>\n      <td>14018.0</td>\n      <td>Government Services</td>\n      <td>NaN</td>\n      <td>92018.0</td>\n      <td>2005.0</td>\n      <td>Lexicon trains Department of Defense and milit...</td>\n      <td>14392043</td>\n      <td>1</td>\n    </tr>\n    <tr>\n      <th>4</th>\n      <td>2010</td>\n      <td>17246</td>\n      <td>5.0</td>\n      <td>WDFA Marketing</td>\n      <td>46.0</td>\n      <td>NaN</td>\n      <td>NaN</td>\n      <td>www.WDFAMarketing.com</td>\n      <td>CA</td>\n      <td>San Francisco</td>\n      <td>13969.0</td>\n      <td>Advertising &amp; Marketing</td>\n      <td>NaN</td>\n      <td>94133.0</td>\n      <td>2006.0</td>\n      <td>WDFA Marketing specializes in guerilla, grassr...</td>\n      <td>17861317</td>\n      <td>1</td>\n    </tr>\n  </tbody>\n</table>\n</div>"
     },
     "execution_count": 8,
     "metadata": {},
     "output_type": "execute_result"
    }
   ],
   "source": [
    "df.head()"
   ],
   "metadata": {
    "collapsed": false,
    "pycharm": {
     "name": "#%%\n"
    }
   }
  },
  {
   "cell_type": "code",
   "execution_count": 18,
   "outputs": [
    {
     "data": {
      "text/plain": "       inc5000companyId                   company  Count\n0                   274                    Smarsh     13\n1                100660  Zoup! Specialty Products     13\n2                  1641                      Vyne     13\n3                  4525   Katom Restaurant Supply     13\n4                 18532          Allied Universal     13\n...                 ...                       ...    ...\n27594             82382                    DIVISA      1\n27595             20313        Emery & Associates      1\n27596             82391                Sociallyin      1\n27597             82395             Artful Living      1\n27598            146483            LRS Healthcare      1\n\n[27546 rows x 3 columns]",
      "text/html": "<div>\n<style scoped>\n    .dataframe tbody tr th:only-of-type {\n        vertical-align: middle;\n    }\n\n    .dataframe tbody tr th {\n        vertical-align: top;\n    }\n\n    .dataframe thead th {\n        text-align: right;\n    }\n</style>\n<table border=\"1\" class=\"dataframe\">\n  <thead>\n    <tr style=\"text-align: right;\">\n      <th></th>\n      <th>inc5000companyId</th>\n      <th>company</th>\n      <th>Count</th>\n    </tr>\n  </thead>\n  <tbody>\n    <tr>\n      <th>0</th>\n      <td>274</td>\n      <td>Smarsh</td>\n      <td>13</td>\n    </tr>\n    <tr>\n      <th>1</th>\n      <td>100660</td>\n      <td>Zoup! Specialty Products</td>\n      <td>13</td>\n    </tr>\n    <tr>\n      <th>2</th>\n      <td>1641</td>\n      <td>Vyne</td>\n      <td>13</td>\n    </tr>\n    <tr>\n      <th>3</th>\n      <td>4525</td>\n      <td>Katom Restaurant Supply</td>\n      <td>13</td>\n    </tr>\n    <tr>\n      <th>4</th>\n      <td>18532</td>\n      <td>Allied Universal</td>\n      <td>13</td>\n    </tr>\n    <tr>\n      <th>...</th>\n      <td>...</td>\n      <td>...</td>\n      <td>...</td>\n    </tr>\n    <tr>\n      <th>27594</th>\n      <td>82382</td>\n      <td>DIVISA</td>\n      <td>1</td>\n    </tr>\n    <tr>\n      <th>27595</th>\n      <td>20313</td>\n      <td>Emery &amp; Associates</td>\n      <td>1</td>\n    </tr>\n    <tr>\n      <th>27596</th>\n      <td>82391</td>\n      <td>Sociallyin</td>\n      <td>1</td>\n    </tr>\n    <tr>\n      <th>27597</th>\n      <td>82395</td>\n      <td>Artful Living</td>\n      <td>1</td>\n    </tr>\n    <tr>\n      <th>27598</th>\n      <td>146483</td>\n      <td>LRS Healthcare</td>\n      <td>1</td>\n    </tr>\n  </tbody>\n</table>\n<p>27546 rows × 3 columns</p>\n</div>"
     },
     "execution_count": 18,
     "metadata": {},
     "output_type": "execute_result"
    }
   ],
   "source": [
    "company_count = df.groupby(['inc5000companyId','company']).size().sort_values(ascending=False).reset_index(name='Count').drop_duplicates(subset='company')\n",
    "company_count"
   ],
   "metadata": {
    "collapsed": false,
    "pycharm": {
     "name": "#%%\n"
    }
   }
  },
  {
   "cell_type": "code",
   "execution_count": 43,
   "outputs": [
    {
     "data": {
      "text/plain": "       inc5000companyId                        company  \\\n0                     4                            INE   \n1                     7                 Freedom Health   \n2                     8               One Technologies   \n3                     9                     MediaTrust   \n4                    10              Criterion Systems   \n...                 ...                            ...   \n27594            146423                Wonderment Apps   \n27595            146427           Northwood Industries   \n27596            146431                       Inflammo   \n27597            146435  MFP Management & Construction   \n27598            146483                 LRS Healthcare   \n\n                                      Years  \n0                  [2011, 2012, 2013, 2014]  \n1                              [2010, 2011]  \n2      [2010, 2011, 2012, 2013, 2014, 2015]  \n3                                    [2010]  \n4      [2010, 2017, 2018, 2019, 2020, 2021]  \n...                                     ...  \n27594                                [2022]  \n27595                                [2022]  \n27596                                [2022]  \n27597                                [2022]  \n27598                                [2022]  \n\n[27599 rows x 3 columns]",
      "text/html": "<div>\n<style scoped>\n    .dataframe tbody tr th:only-of-type {\n        vertical-align: middle;\n    }\n\n    .dataframe tbody tr th {\n        vertical-align: top;\n    }\n\n    .dataframe thead th {\n        text-align: right;\n    }\n</style>\n<table border=\"1\" class=\"dataframe\">\n  <thead>\n    <tr style=\"text-align: right;\">\n      <th></th>\n      <th>inc5000companyId</th>\n      <th>company</th>\n      <th>Years</th>\n    </tr>\n  </thead>\n  <tbody>\n    <tr>\n      <th>0</th>\n      <td>4</td>\n      <td>INE</td>\n      <td>[2011, 2012, 2013, 2014]</td>\n    </tr>\n    <tr>\n      <th>1</th>\n      <td>7</td>\n      <td>Freedom Health</td>\n      <td>[2010, 2011]</td>\n    </tr>\n    <tr>\n      <th>2</th>\n      <td>8</td>\n      <td>One Technologies</td>\n      <td>[2010, 2011, 2012, 2013, 2014, 2015]</td>\n    </tr>\n    <tr>\n      <th>3</th>\n      <td>9</td>\n      <td>MediaTrust</td>\n      <td>[2010]</td>\n    </tr>\n    <tr>\n      <th>4</th>\n      <td>10</td>\n      <td>Criterion Systems</td>\n      <td>[2010, 2017, 2018, 2019, 2020, 2021]</td>\n    </tr>\n    <tr>\n      <th>...</th>\n      <td>...</td>\n      <td>...</td>\n      <td>...</td>\n    </tr>\n    <tr>\n      <th>27594</th>\n      <td>146423</td>\n      <td>Wonderment Apps</td>\n      <td>[2022]</td>\n    </tr>\n    <tr>\n      <th>27595</th>\n      <td>146427</td>\n      <td>Northwood Industries</td>\n      <td>[2022]</td>\n    </tr>\n    <tr>\n      <th>27596</th>\n      <td>146431</td>\n      <td>Inflammo</td>\n      <td>[2022]</td>\n    </tr>\n    <tr>\n      <th>27597</th>\n      <td>146435</td>\n      <td>MFP Management &amp; Construction</td>\n      <td>[2022]</td>\n    </tr>\n    <tr>\n      <th>27598</th>\n      <td>146483</td>\n      <td>LRS Healthcare</td>\n      <td>[2022]</td>\n    </tr>\n  </tbody>\n</table>\n<p>27599 rows × 3 columns</p>\n</div>"
     },
     "execution_count": 43,
     "metadata": {},
     "output_type": "execute_result"
    }
   ],
   "source": [
    "df_years = df.groupby(['inc5000companyId','company'])['Year'].apply(list).reset_index(name='Years')\n",
    "df_years"
   ],
   "metadata": {
    "collapsed": false,
    "pycharm": {
     "name": "#%%\n"
    }
   }
  },
  {
   "cell_type": "code",
   "execution_count": 98,
   "outputs": [
    {
     "data": {
      "text/plain": "       inc5000companyId                   company  \\\n198                 274                    Smarsh   \n20665            100660  Zoup! Specialty Products   \n1136               1641                      Vyne   \n2912               4525   Katom Restaurant Supply   \n5144              18532          Allied Universal   \n...                 ...                       ...   \n18151             82382                    DIVISA   \n6854              20313        Emery & Associates   \n18154             82391                Sociallyin   \n18155             82395             Artful Living   \n27598            146483            LRS Healthcare   \n\n                                                   Years  Year_Count  \\\n198    [2010, 2011, 2012, 2013, 2014, 2015, 2016, 201...          13   \n20665  [2010, 2011, 2012, 2013, 2014, 2015, 2016, 201...          13   \n1136   [2010, 2011, 2012, 2013, 2014, 2015, 2016, 201...          13   \n2912   [2010, 2011, 2012, 2013, 2014, 2015, 2016, 201...          13   \n5144   [2010, 2011, 2012, 2013, 2014, 2015, 2016, 201...          13   \n...                                                  ...         ...   \n18151                                             [2022]           1   \n6854                                              [2011]           1   \n18154                                             [2022]           1   \n18155                                             [2019]           1   \n27598                                             [2022]           1   \n\n       Cont_Yr_Count  \n198               13  \n20665             13  \n1136              13  \n2912              13  \n5144              13  \n...              ...  \n18151              1  \n6854               1  \n18154              1  \n18155              1  \n27598              1  \n\n[27599 rows x 5 columns]",
      "text/html": "<div>\n<style scoped>\n    .dataframe tbody tr th:only-of-type {\n        vertical-align: middle;\n    }\n\n    .dataframe tbody tr th {\n        vertical-align: top;\n    }\n\n    .dataframe thead th {\n        text-align: right;\n    }\n</style>\n<table border=\"1\" class=\"dataframe\">\n  <thead>\n    <tr style=\"text-align: right;\">\n      <th></th>\n      <th>inc5000companyId</th>\n      <th>company</th>\n      <th>Years</th>\n      <th>Year_Count</th>\n      <th>Cont_Yr_Count</th>\n    </tr>\n  </thead>\n  <tbody>\n    <tr>\n      <th>198</th>\n      <td>274</td>\n      <td>Smarsh</td>\n      <td>[2010, 2011, 2012, 2013, 2014, 2015, 2016, 201...</td>\n      <td>13</td>\n      <td>13</td>\n    </tr>\n    <tr>\n      <th>20665</th>\n      <td>100660</td>\n      <td>Zoup! Specialty Products</td>\n      <td>[2010, 2011, 2012, 2013, 2014, 2015, 2016, 201...</td>\n      <td>13</td>\n      <td>13</td>\n    </tr>\n    <tr>\n      <th>1136</th>\n      <td>1641</td>\n      <td>Vyne</td>\n      <td>[2010, 2011, 2012, 2013, 2014, 2015, 2016, 201...</td>\n      <td>13</td>\n      <td>13</td>\n    </tr>\n    <tr>\n      <th>2912</th>\n      <td>4525</td>\n      <td>Katom Restaurant Supply</td>\n      <td>[2010, 2011, 2012, 2013, 2014, 2015, 2016, 201...</td>\n      <td>13</td>\n      <td>13</td>\n    </tr>\n    <tr>\n      <th>5144</th>\n      <td>18532</td>\n      <td>Allied Universal</td>\n      <td>[2010, 2011, 2012, 2013, 2014, 2015, 2016, 201...</td>\n      <td>13</td>\n      <td>13</td>\n    </tr>\n    <tr>\n      <th>...</th>\n      <td>...</td>\n      <td>...</td>\n      <td>...</td>\n      <td>...</td>\n      <td>...</td>\n    </tr>\n    <tr>\n      <th>18151</th>\n      <td>82382</td>\n      <td>DIVISA</td>\n      <td>[2022]</td>\n      <td>1</td>\n      <td>1</td>\n    </tr>\n    <tr>\n      <th>6854</th>\n      <td>20313</td>\n      <td>Emery &amp; Associates</td>\n      <td>[2011]</td>\n      <td>1</td>\n      <td>1</td>\n    </tr>\n    <tr>\n      <th>18154</th>\n      <td>82391</td>\n      <td>Sociallyin</td>\n      <td>[2022]</td>\n      <td>1</td>\n      <td>1</td>\n    </tr>\n    <tr>\n      <th>18155</th>\n      <td>82395</td>\n      <td>Artful Living</td>\n      <td>[2019]</td>\n      <td>1</td>\n      <td>1</td>\n    </tr>\n    <tr>\n      <th>27598</th>\n      <td>146483</td>\n      <td>LRS Healthcare</td>\n      <td>[2022]</td>\n      <td>1</td>\n      <td>1</td>\n    </tr>\n  </tbody>\n</table>\n<p>27599 rows × 5 columns</p>\n</div>"
     },
     "execution_count": 98,
     "metadata": {},
     "output_type": "execute_result"
    }
   ],
   "source": [
    "df_years['Year_Count'] = df_years.apply(lambda row: len(row['Years']), axis=1)\n",
    "df_years_sorted = df_years.sort_values(by=['Year_Count'],ascending=False)"
   ],
   "metadata": {
    "collapsed": false,
    "pycharm": {
     "name": "#%%\n"
    }
   }
  },
  {
   "cell_type": "code",
   "execution_count": 99,
   "outputs": [],
   "source": [
    "# test_arr = [[2010,2011,2012,2013,2014,2015,2020,2021],\n",
    "#             [2010,2011,2022],[2010,2011],[2010],[2010],\n",
    "#             [2010, 2011, 2012, 2013, 2014, 2015, 2016, 2017, 2018, 2019, 2020, 2021, 2022],\n",
    "#             [2015,2016,2019,2020,2021,2022],\n",
    "#             [2010,2011,2012,2017,2018,2019,2020,2021]\n",
    "# ]\n",
    "\n",
    "def continuous_count(data):\n",
    "    global_total = 1\n",
    "    local_total = 1\n",
    "    for i in range(1,len(data)):\n",
    "        if int(data[i]) - int(data[i-1]) == 1:\n",
    "            local_total += 1\n",
    "            # print(local_total)\n",
    "        else:\n",
    "            if local_total > global_total:\n",
    "                global_total = local_total\n",
    "            local_total = 1\n",
    "\n",
    "    return max(local_total,global_total)"
   ],
   "metadata": {
    "collapsed": false,
    "pycharm": {
     "name": "#%%\n"
    }
   }
  },
  {
   "cell_type": "code",
   "execution_count": 100,
   "outputs": [],
   "source": [
    "# vals = []\n",
    "# for k in test_arr:\n",
    "#     val = continuous_count(k)\n",
    "#     vals.append(val)\n",
    "# vals\n",
    "# # Answers: 6,2,2,1,1,13,4,5"
   ],
   "metadata": {
    "collapsed": false,
    "pycharm": {
     "name": "#%%\n"
    }
   }
  },
  {
   "cell_type": "code",
   "execution_count": 130,
   "outputs": [
    {
     "data": {
      "text/plain": "       inc5000companyId                        company  \\\n0                     4                            INE   \n1                     7                 Freedom Health   \n2                     8               One Technologies   \n3                     9                     MediaTrust   \n4                    10              Criterion Systems   \n...                 ...                            ...   \n27594            146423                Wonderment Apps   \n27595            146427           Northwood Industries   \n27596            146431                       Inflammo   \n27597            146435  MFP Management & Construction   \n27598            146483                 LRS Healthcare   \n\n                                      Years  Year_Count  Cont_Yr_Count  \\\n0                  [2011, 2012, 2013, 2014]           4              4   \n1                              [2010, 2011]           2              2   \n2      [2010, 2011, 2012, 2013, 2014, 2015]           6              6   \n3                                    [2010]           1              1   \n4      [2010, 2017, 2018, 2019, 2020, 2021]           6              5   \n...                                     ...         ...            ...   \n27594                                [2022]           1              1   \n27595                                [2022]           1              1   \n27596                                [2022]           1              1   \n27597                                [2022]           1              1   \n27598                                [2022]           1              1   \n\n      Filter_Col  \n0         Remove  \n1         Remove  \n2           Keep  \n3         Remove  \n4         Remove  \n...          ...  \n27594     Remove  \n27595     Remove  \n27596     Remove  \n27597     Remove  \n27598     Remove  \n\n[27599 rows x 6 columns]",
      "text/html": "<div>\n<style scoped>\n    .dataframe tbody tr th:only-of-type {\n        vertical-align: middle;\n    }\n\n    .dataframe tbody tr th {\n        vertical-align: top;\n    }\n\n    .dataframe thead th {\n        text-align: right;\n    }\n</style>\n<table border=\"1\" class=\"dataframe\">\n  <thead>\n    <tr style=\"text-align: right;\">\n      <th></th>\n      <th>inc5000companyId</th>\n      <th>company</th>\n      <th>Years</th>\n      <th>Year_Count</th>\n      <th>Cont_Yr_Count</th>\n      <th>Filter_Col</th>\n    </tr>\n  </thead>\n  <tbody>\n    <tr>\n      <th>0</th>\n      <td>4</td>\n      <td>INE</td>\n      <td>[2011, 2012, 2013, 2014]</td>\n      <td>4</td>\n      <td>4</td>\n      <td>Remove</td>\n    </tr>\n    <tr>\n      <th>1</th>\n      <td>7</td>\n      <td>Freedom Health</td>\n      <td>[2010, 2011]</td>\n      <td>2</td>\n      <td>2</td>\n      <td>Remove</td>\n    </tr>\n    <tr>\n      <th>2</th>\n      <td>8</td>\n      <td>One Technologies</td>\n      <td>[2010, 2011, 2012, 2013, 2014, 2015]</td>\n      <td>6</td>\n      <td>6</td>\n      <td>Keep</td>\n    </tr>\n    <tr>\n      <th>3</th>\n      <td>9</td>\n      <td>MediaTrust</td>\n      <td>[2010]</td>\n      <td>1</td>\n      <td>1</td>\n      <td>Remove</td>\n    </tr>\n    <tr>\n      <th>4</th>\n      <td>10</td>\n      <td>Criterion Systems</td>\n      <td>[2010, 2017, 2018, 2019, 2020, 2021]</td>\n      <td>6</td>\n      <td>5</td>\n      <td>Remove</td>\n    </tr>\n    <tr>\n      <th>...</th>\n      <td>...</td>\n      <td>...</td>\n      <td>...</td>\n      <td>...</td>\n      <td>...</td>\n      <td>...</td>\n    </tr>\n    <tr>\n      <th>27594</th>\n      <td>146423</td>\n      <td>Wonderment Apps</td>\n      <td>[2022]</td>\n      <td>1</td>\n      <td>1</td>\n      <td>Remove</td>\n    </tr>\n    <tr>\n      <th>27595</th>\n      <td>146427</td>\n      <td>Northwood Industries</td>\n      <td>[2022]</td>\n      <td>1</td>\n      <td>1</td>\n      <td>Remove</td>\n    </tr>\n    <tr>\n      <th>27596</th>\n      <td>146431</td>\n      <td>Inflammo</td>\n      <td>[2022]</td>\n      <td>1</td>\n      <td>1</td>\n      <td>Remove</td>\n    </tr>\n    <tr>\n      <th>27597</th>\n      <td>146435</td>\n      <td>MFP Management &amp; Construction</td>\n      <td>[2022]</td>\n      <td>1</td>\n      <td>1</td>\n      <td>Remove</td>\n    </tr>\n    <tr>\n      <th>27598</th>\n      <td>146483</td>\n      <td>LRS Healthcare</td>\n      <td>[2022]</td>\n      <td>1</td>\n      <td>1</td>\n      <td>Remove</td>\n    </tr>\n  </tbody>\n</table>\n<p>27599 rows × 6 columns</p>\n</div>"
     },
     "execution_count": 130,
     "metadata": {},
     "output_type": "execute_result"
    }
   ],
   "source": [
    "df_years['Cont_Yr_Count'] = df_years.apply(lambda row: continuous_count(row['Years']), axis=1)\n",
    "df_years['Filter_Col'] = df_years.apply(lambda x: 'Keep' if (x['Cont_Yr_Count'] >= 6) else 'Remove', axis=1)\n",
    "df_years"
   ],
   "metadata": {
    "collapsed": false,
    "pycharm": {
     "name": "#%%\n"
    }
   }
  },
  {
   "cell_type": "code",
   "execution_count": 126,
   "outputs": [],
   "source": [
    "# # df_years.drop(['Dif'],axis=1, inplace=True)\n",
    "# df_years.drop(['Filter'],axis=1, inplace=True)\n",
    "# df_years.drop(['Filter_GE_6'],axis=1, inplace=True)\n",
    "# df_years"
   ],
   "metadata": {
    "collapsed": false,
    "pycharm": {
     "name": "#%%\n"
    }
   }
  },
  {
   "cell_type": "code",
   "execution_count": 230,
   "outputs": [],
   "source": [
    "# df_years.to_csv('C:\\\\Users\\\\amorrow\\\\Documents\\\\inc5000_Extracts\\\\inc5000_filterable.csv', index=False)"
   ],
   "metadata": {
    "collapsed": false,
    "pycharm": {
     "name": "#%%\n"
    }
   }
  },
  {
   "cell_type": "code",
   "execution_count": 220,
   "outputs": [],
   "source": [
    "def continuous_count_desc(data):\n",
    "    sorted_arr = sorted(data,reverse=True)\n",
    "    local_total = 0\n",
    "    if sorted_arr[0] == 2022:\n",
    "        local_total += 1\n",
    "        for i in range(0,len(sorted_arr)-1):\n",
    "            if int(sorted_arr[i]) - int(sorted_arr[i+1]) == 1:\n",
    "                local_total += 1\n",
    "            else:\n",
    "                break\n",
    "\n",
    "    return local_total"
   ],
   "metadata": {
    "collapsed": false,
    "pycharm": {
     "name": "#%%\n"
    }
   }
  },
  {
   "cell_type": "code",
   "execution_count": 221,
   "outputs": [
    {
     "data": {
      "text/plain": "[0, 1, 0, 0, 0, 13, 4, 0]"
     },
     "execution_count": 221,
     "metadata": {},
     "output_type": "execute_result"
    }
   ],
   "source": [
    "# test_arr1 = [[2010,2011,2012,2013,2014,2015,2020,2021],\n",
    "#             [2010,2011,2022],[2010,2011],[2010],[2010],\n",
    "#             [2010, 2011, 2012, 2013, 2014, 2015, 2016, 2017, 2018, 2019, 2020, 2021, 2022],\n",
    "#             [2015,2016,2019,2020,2021,2022],\n",
    "#             [2010,2011,2012,2017,2018,2019,2020,2021]\n",
    "# ]\n",
    "# vals = []\n",
    "# for k in test_arr1:\n",
    "#     val = continuous_count_desc(k)\n",
    "#     vals.append(val)\n",
    "# vals"
   ],
   "metadata": {
    "collapsed": false,
    "pycharm": {
     "name": "#%%\n"
    }
   }
  },
  {
   "cell_type": "code",
   "execution_count": 226,
   "outputs": [
    {
     "data": {
      "text/plain": "       inc5000companyId                        company  \\\n0                     4                            INE   \n1                     7                 Freedom Health   \n2                     8               One Technologies   \n3                     9                     MediaTrust   \n4                    10              Criterion Systems   \n...                 ...                            ...   \n27594            146423                Wonderment Apps   \n27595            146427           Northwood Industries   \n27596            146431                       Inflammo   \n27597            146435  MFP Management & Construction   \n27598            146483                 LRS Healthcare   \n\n                                      Years  Year_Count  Cont_Yr_Count  \\\n0                  [2011, 2012, 2013, 2014]           4              4   \n1                              [2010, 2011]           2              2   \n2      [2010, 2011, 2012, 2013, 2014, 2015]           6              6   \n3                                    [2010]           1              1   \n4      [2010, 2017, 2018, 2019, 2020, 2021]           6              5   \n...                                     ...         ...            ...   \n27594                                [2022]           1              1   \n27595                                [2022]           1              1   \n27596                                [2022]           1              1   \n27597                                [2022]           1              1   \n27598                                [2022]           1              1   \n\n      Filter_Col  Cont_Yr_Count_Desc  \n0         Remove                   0  \n1         Remove                   0  \n2           Keep                   0  \n3         Remove                   0  \n4         Remove                   0  \n...          ...                 ...  \n27594     Remove                   1  \n27595     Remove                   1  \n27596     Remove                   1  \n27597     Remove                   1  \n27598     Remove                   1  \n\n[27599 rows x 7 columns]",
      "text/html": "<div>\n<style scoped>\n    .dataframe tbody tr th:only-of-type {\n        vertical-align: middle;\n    }\n\n    .dataframe tbody tr th {\n        vertical-align: top;\n    }\n\n    .dataframe thead th {\n        text-align: right;\n    }\n</style>\n<table border=\"1\" class=\"dataframe\">\n  <thead>\n    <tr style=\"text-align: right;\">\n      <th></th>\n      <th>inc5000companyId</th>\n      <th>company</th>\n      <th>Years</th>\n      <th>Year_Count</th>\n      <th>Cont_Yr_Count</th>\n      <th>Filter_Col</th>\n      <th>Cont_Yr_Count_Desc</th>\n    </tr>\n  </thead>\n  <tbody>\n    <tr>\n      <th>0</th>\n      <td>4</td>\n      <td>INE</td>\n      <td>[2011, 2012, 2013, 2014]</td>\n      <td>4</td>\n      <td>4</td>\n      <td>Remove</td>\n      <td>0</td>\n    </tr>\n    <tr>\n      <th>1</th>\n      <td>7</td>\n      <td>Freedom Health</td>\n      <td>[2010, 2011]</td>\n      <td>2</td>\n      <td>2</td>\n      <td>Remove</td>\n      <td>0</td>\n    </tr>\n    <tr>\n      <th>2</th>\n      <td>8</td>\n      <td>One Technologies</td>\n      <td>[2010, 2011, 2012, 2013, 2014, 2015]</td>\n      <td>6</td>\n      <td>6</td>\n      <td>Keep</td>\n      <td>0</td>\n    </tr>\n    <tr>\n      <th>3</th>\n      <td>9</td>\n      <td>MediaTrust</td>\n      <td>[2010]</td>\n      <td>1</td>\n      <td>1</td>\n      <td>Remove</td>\n      <td>0</td>\n    </tr>\n    <tr>\n      <th>4</th>\n      <td>10</td>\n      <td>Criterion Systems</td>\n      <td>[2010, 2017, 2018, 2019, 2020, 2021]</td>\n      <td>6</td>\n      <td>5</td>\n      <td>Remove</td>\n      <td>0</td>\n    </tr>\n    <tr>\n      <th>...</th>\n      <td>...</td>\n      <td>...</td>\n      <td>...</td>\n      <td>...</td>\n      <td>...</td>\n      <td>...</td>\n      <td>...</td>\n    </tr>\n    <tr>\n      <th>27594</th>\n      <td>146423</td>\n      <td>Wonderment Apps</td>\n      <td>[2022]</td>\n      <td>1</td>\n      <td>1</td>\n      <td>Remove</td>\n      <td>1</td>\n    </tr>\n    <tr>\n      <th>27595</th>\n      <td>146427</td>\n      <td>Northwood Industries</td>\n      <td>[2022]</td>\n      <td>1</td>\n      <td>1</td>\n      <td>Remove</td>\n      <td>1</td>\n    </tr>\n    <tr>\n      <th>27596</th>\n      <td>146431</td>\n      <td>Inflammo</td>\n      <td>[2022]</td>\n      <td>1</td>\n      <td>1</td>\n      <td>Remove</td>\n      <td>1</td>\n    </tr>\n    <tr>\n      <th>27597</th>\n      <td>146435</td>\n      <td>MFP Management &amp; Construction</td>\n      <td>[2022]</td>\n      <td>1</td>\n      <td>1</td>\n      <td>Remove</td>\n      <td>1</td>\n    </tr>\n    <tr>\n      <th>27598</th>\n      <td>146483</td>\n      <td>LRS Healthcare</td>\n      <td>[2022]</td>\n      <td>1</td>\n      <td>1</td>\n      <td>Remove</td>\n      <td>1</td>\n    </tr>\n  </tbody>\n</table>\n<p>27599 rows × 7 columns</p>\n</div>"
     },
     "execution_count": 226,
     "metadata": {},
     "output_type": "execute_result"
    }
   ],
   "source": [
    "df_years['Cont_Yr_Count_Desc'] = df_years.apply(lambda row: continuous_count_desc(row['Years']), axis=1)\n",
    "df_years"
   ],
   "metadata": {
    "collapsed": false,
    "pycharm": {
     "name": "#%%\n"
    }
   }
  },
  {
   "cell_type": "code",
   "execution_count": 227,
   "outputs": [
    {
     "data": {
      "text/plain": "       inc5000companyId                              company  \\\n198                 274                               Smarsh   \n20665            100660             Zoup! Specialty Products   \n190                 265            Carahsoft Technology Corp   \n5144              18532                     Allied Universal   \n1136               1641                                 Vyne   \n...                 ...                                  ...   \n9263              22836                               Hiller   \n9262              22834                            Dirt Pros   \n9261              22830  International Cruise and Excursions   \n9260              22824                           EnvisionRx   \n13799             37587                            STAPLEGUN   \n\n                                                   Years  Year_Count  \\\n198    [2010, 2011, 2012, 2013, 2014, 2015, 2016, 201...          13   \n20665  [2010, 2011, 2012, 2013, 2014, 2015, 2016, 201...          13   \n190    [2010, 2011, 2012, 2013, 2014, 2015, 2016, 201...          13   \n5144   [2010, 2011, 2012, 2013, 2014, 2015, 2016, 201...          13   \n1136   [2010, 2011, 2012, 2013, 2014, 2015, 2016, 201...          13   \n...                                                  ...         ...   \n9263    [2010, 2011, 2012, 2013, 2014, 2015, 2016, 2017]           8   \n9262                                              [2010]           1   \n9261                                        [2014, 2015]           2   \n9260                                  [2013, 2014, 2015]           3   \n13799                                       [2015, 2016]           2   \n\n       Cont_Yr_Count Filter_Col  Cont_Yr_Count_Desc  \n198               13       Keep                  13  \n20665             13       Keep                  13  \n190               13       Keep                  13  \n5144              13       Keep                  13  \n1136              13       Keep                  13  \n...              ...        ...                 ...  \n9263               8       Keep                   0  \n9262               1     Remove                   0  \n9261               2     Remove                   0  \n9260               3     Remove                   0  \n13799              2     Remove                   0  \n\n[27599 rows x 7 columns]",
      "text/html": "<div>\n<style scoped>\n    .dataframe tbody tr th:only-of-type {\n        vertical-align: middle;\n    }\n\n    .dataframe tbody tr th {\n        vertical-align: top;\n    }\n\n    .dataframe thead th {\n        text-align: right;\n    }\n</style>\n<table border=\"1\" class=\"dataframe\">\n  <thead>\n    <tr style=\"text-align: right;\">\n      <th></th>\n      <th>inc5000companyId</th>\n      <th>company</th>\n      <th>Years</th>\n      <th>Year_Count</th>\n      <th>Cont_Yr_Count</th>\n      <th>Filter_Col</th>\n      <th>Cont_Yr_Count_Desc</th>\n    </tr>\n  </thead>\n  <tbody>\n    <tr>\n      <th>198</th>\n      <td>274</td>\n      <td>Smarsh</td>\n      <td>[2010, 2011, 2012, 2013, 2014, 2015, 2016, 201...</td>\n      <td>13</td>\n      <td>13</td>\n      <td>Keep</td>\n      <td>13</td>\n    </tr>\n    <tr>\n      <th>20665</th>\n      <td>100660</td>\n      <td>Zoup! Specialty Products</td>\n      <td>[2010, 2011, 2012, 2013, 2014, 2015, 2016, 201...</td>\n      <td>13</td>\n      <td>13</td>\n      <td>Keep</td>\n      <td>13</td>\n    </tr>\n    <tr>\n      <th>190</th>\n      <td>265</td>\n      <td>Carahsoft Technology Corp</td>\n      <td>[2010, 2011, 2012, 2013, 2014, 2015, 2016, 201...</td>\n      <td>13</td>\n      <td>13</td>\n      <td>Keep</td>\n      <td>13</td>\n    </tr>\n    <tr>\n      <th>5144</th>\n      <td>18532</td>\n      <td>Allied Universal</td>\n      <td>[2010, 2011, 2012, 2013, 2014, 2015, 2016, 201...</td>\n      <td>13</td>\n      <td>13</td>\n      <td>Keep</td>\n      <td>13</td>\n    </tr>\n    <tr>\n      <th>1136</th>\n      <td>1641</td>\n      <td>Vyne</td>\n      <td>[2010, 2011, 2012, 2013, 2014, 2015, 2016, 201...</td>\n      <td>13</td>\n      <td>13</td>\n      <td>Keep</td>\n      <td>13</td>\n    </tr>\n    <tr>\n      <th>...</th>\n      <td>...</td>\n      <td>...</td>\n      <td>...</td>\n      <td>...</td>\n      <td>...</td>\n      <td>...</td>\n      <td>...</td>\n    </tr>\n    <tr>\n      <th>9263</th>\n      <td>22836</td>\n      <td>Hiller</td>\n      <td>[2010, 2011, 2012, 2013, 2014, 2015, 2016, 2017]</td>\n      <td>8</td>\n      <td>8</td>\n      <td>Keep</td>\n      <td>0</td>\n    </tr>\n    <tr>\n      <th>9262</th>\n      <td>22834</td>\n      <td>Dirt Pros</td>\n      <td>[2010]</td>\n      <td>1</td>\n      <td>1</td>\n      <td>Remove</td>\n      <td>0</td>\n    </tr>\n    <tr>\n      <th>9261</th>\n      <td>22830</td>\n      <td>International Cruise and Excursions</td>\n      <td>[2014, 2015]</td>\n      <td>2</td>\n      <td>2</td>\n      <td>Remove</td>\n      <td>0</td>\n    </tr>\n    <tr>\n      <th>9260</th>\n      <td>22824</td>\n      <td>EnvisionRx</td>\n      <td>[2013, 2014, 2015]</td>\n      <td>3</td>\n      <td>3</td>\n      <td>Remove</td>\n      <td>0</td>\n    </tr>\n    <tr>\n      <th>13799</th>\n      <td>37587</td>\n      <td>STAPLEGUN</td>\n      <td>[2015, 2016]</td>\n      <td>2</td>\n      <td>2</td>\n      <td>Remove</td>\n      <td>0</td>\n    </tr>\n  </tbody>\n</table>\n<p>27599 rows × 7 columns</p>\n</div>"
     },
     "execution_count": 227,
     "metadata": {},
     "output_type": "execute_result"
    }
   ],
   "source": [
    "sorted_df_years_count = df_years.sort_values(by='Cont_Yr_Count_Desc', ascending=False)\n",
    "sorted_df_years_count"
   ],
   "metadata": {
    "collapsed": false,
    "pycharm": {
     "name": "#%%\n"
    }
   }
  },
  {
   "cell_type": "code",
   "execution_count": 228,
   "outputs": [
    {
     "data": {
      "text/plain": "       inc5000companyId                              company  \\\n198                 274                               Smarsh   \n20665            100660             Zoup! Specialty Products   \n190                 265            Carahsoft Technology Corp   \n5144              18532                     Allied Universal   \n1136               1641                                 Vyne   \n...                 ...                                  ...   \n9263              22836                               Hiller   \n9262              22834                            Dirt Pros   \n9261              22830  International Cruise and Excursions   \n9260              22824                           EnvisionRx   \n13799             37587                            STAPLEGUN   \n\n                                                   Years  Year_Count  \\\n198    [2010, 2011, 2012, 2013, 2014, 2015, 2016, 201...          13   \n20665  [2010, 2011, 2012, 2013, 2014, 2015, 2016, 201...          13   \n190    [2010, 2011, 2012, 2013, 2014, 2015, 2016, 201...          13   \n5144   [2010, 2011, 2012, 2013, 2014, 2015, 2016, 201...          13   \n1136   [2010, 2011, 2012, 2013, 2014, 2015, 2016, 201...          13   \n...                                                  ...         ...   \n9263    [2010, 2011, 2012, 2013, 2014, 2015, 2016, 2017]           8   \n9262                                              [2010]           1   \n9261                                        [2014, 2015]           2   \n9260                                  [2013, 2014, 2015]           3   \n13799                                       [2015, 2016]           2   \n\n       Cont_Yr_Count Filter_Col  Cont_Yr_Count_Desc Filter_Col_Desc_Count  \n198               13       Keep                  13                  Keep  \n20665             13       Keep                  13                  Keep  \n190               13       Keep                  13                  Keep  \n5144              13       Keep                  13                  Keep  \n1136              13       Keep                  13                  Keep  \n...              ...        ...                 ...                   ...  \n9263               8       Keep                   0                Remove  \n9262               1     Remove                   0                Remove  \n9261               2     Remove                   0                Remove  \n9260               3     Remove                   0                Remove  \n13799              2     Remove                   0                Remove  \n\n[27599 rows x 8 columns]",
      "text/html": "<div>\n<style scoped>\n    .dataframe tbody tr th:only-of-type {\n        vertical-align: middle;\n    }\n\n    .dataframe tbody tr th {\n        vertical-align: top;\n    }\n\n    .dataframe thead th {\n        text-align: right;\n    }\n</style>\n<table border=\"1\" class=\"dataframe\">\n  <thead>\n    <tr style=\"text-align: right;\">\n      <th></th>\n      <th>inc5000companyId</th>\n      <th>company</th>\n      <th>Years</th>\n      <th>Year_Count</th>\n      <th>Cont_Yr_Count</th>\n      <th>Filter_Col</th>\n      <th>Cont_Yr_Count_Desc</th>\n      <th>Filter_Col_Desc_Count</th>\n    </tr>\n  </thead>\n  <tbody>\n    <tr>\n      <th>198</th>\n      <td>274</td>\n      <td>Smarsh</td>\n      <td>[2010, 2011, 2012, 2013, 2014, 2015, 2016, 201...</td>\n      <td>13</td>\n      <td>13</td>\n      <td>Keep</td>\n      <td>13</td>\n      <td>Keep</td>\n    </tr>\n    <tr>\n      <th>20665</th>\n      <td>100660</td>\n      <td>Zoup! Specialty Products</td>\n      <td>[2010, 2011, 2012, 2013, 2014, 2015, 2016, 201...</td>\n      <td>13</td>\n      <td>13</td>\n      <td>Keep</td>\n      <td>13</td>\n      <td>Keep</td>\n    </tr>\n    <tr>\n      <th>190</th>\n      <td>265</td>\n      <td>Carahsoft Technology Corp</td>\n      <td>[2010, 2011, 2012, 2013, 2014, 2015, 2016, 201...</td>\n      <td>13</td>\n      <td>13</td>\n      <td>Keep</td>\n      <td>13</td>\n      <td>Keep</td>\n    </tr>\n    <tr>\n      <th>5144</th>\n      <td>18532</td>\n      <td>Allied Universal</td>\n      <td>[2010, 2011, 2012, 2013, 2014, 2015, 2016, 201...</td>\n      <td>13</td>\n      <td>13</td>\n      <td>Keep</td>\n      <td>13</td>\n      <td>Keep</td>\n    </tr>\n    <tr>\n      <th>1136</th>\n      <td>1641</td>\n      <td>Vyne</td>\n      <td>[2010, 2011, 2012, 2013, 2014, 2015, 2016, 201...</td>\n      <td>13</td>\n      <td>13</td>\n      <td>Keep</td>\n      <td>13</td>\n      <td>Keep</td>\n    </tr>\n    <tr>\n      <th>...</th>\n      <td>...</td>\n      <td>...</td>\n      <td>...</td>\n      <td>...</td>\n      <td>...</td>\n      <td>...</td>\n      <td>...</td>\n      <td>...</td>\n    </tr>\n    <tr>\n      <th>9263</th>\n      <td>22836</td>\n      <td>Hiller</td>\n      <td>[2010, 2011, 2012, 2013, 2014, 2015, 2016, 2017]</td>\n      <td>8</td>\n      <td>8</td>\n      <td>Keep</td>\n      <td>0</td>\n      <td>Remove</td>\n    </tr>\n    <tr>\n      <th>9262</th>\n      <td>22834</td>\n      <td>Dirt Pros</td>\n      <td>[2010]</td>\n      <td>1</td>\n      <td>1</td>\n      <td>Remove</td>\n      <td>0</td>\n      <td>Remove</td>\n    </tr>\n    <tr>\n      <th>9261</th>\n      <td>22830</td>\n      <td>International Cruise and Excursions</td>\n      <td>[2014, 2015]</td>\n      <td>2</td>\n      <td>2</td>\n      <td>Remove</td>\n      <td>0</td>\n      <td>Remove</td>\n    </tr>\n    <tr>\n      <th>9260</th>\n      <td>22824</td>\n      <td>EnvisionRx</td>\n      <td>[2013, 2014, 2015]</td>\n      <td>3</td>\n      <td>3</td>\n      <td>Remove</td>\n      <td>0</td>\n      <td>Remove</td>\n    </tr>\n    <tr>\n      <th>13799</th>\n      <td>37587</td>\n      <td>STAPLEGUN</td>\n      <td>[2015, 2016]</td>\n      <td>2</td>\n      <td>2</td>\n      <td>Remove</td>\n      <td>0</td>\n      <td>Remove</td>\n    </tr>\n  </tbody>\n</table>\n<p>27599 rows × 8 columns</p>\n</div>"
     },
     "execution_count": 228,
     "metadata": {},
     "output_type": "execute_result"
    }
   ],
   "source": [
    "sorted_df_years_count['Filter_Col_Desc_Count'] = sorted_df_years_count.apply(lambda x: 'Keep' if (x['Cont_Yr_Count_Desc'] >= 6) else 'Remove', axis=1)\n",
    "sorted_df_years_count"
   ],
   "metadata": {
    "collapsed": false,
    "pycharm": {
     "name": "#%%\n"
    }
   }
  },
  {
   "cell_type": "code",
   "execution_count": 231,
   "outputs": [],
   "source": [
    "#sorted_df_years_count.to_csv('filepath.csv', index=False)"
   ],
   "metadata": {
    "collapsed": false,
    "pycharm": {
     "name": "#%%\n"
    }
   }
  },
  {
   "cell_type": "code",
   "execution_count": null,
   "outputs": [],
   "source": [],
   "metadata": {
    "collapsed": false,
    "pycharm": {
     "name": "#%%\n"
    }
   }
  }
 ],
 "metadata": {
  "kernelspec": {
   "display_name": "Python 3",
   "language": "python",
   "name": "python3"
  },
  "language_info": {
   "codemirror_mode": {
    "name": "ipython",
    "version": 2
   },
   "file_extension": ".py",
   "mimetype": "text/x-python",
   "name": "python",
   "nbconvert_exporter": "python",
   "pygments_lexer": "ipython2",
   "version": "2.7.6"
  }
 },
 "nbformat": 4,
 "nbformat_minor": 0
}
